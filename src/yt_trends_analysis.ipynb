{
 "cells": [
  {
   "cell_type": "code",
   "execution_count": 1,
   "id": "c70099b2",
   "metadata": {},
   "outputs": [],
   "source": [
    "'''\n",
    "Download the trending YT videos and categories for Germany (beginning 11.08.2020)\n",
    "from https://www.kaggle.com/rsrishav/youtube-trending-video-dataset\n",
    "This may take up to 20 seconds\n",
    "'''\n",
    "!kaggle datasets download rsrishav/youtube-trending-video-dataset -f DE_category_id.json -p ../dat -q\n",
    "!kaggle datasets download rsrishav/youtube-trending-video-dataset -f DE_youtube_trending_data.csv -p ../dat -q"
   ]
  },
  {
   "cell_type": "code",
   "execution_count": 31,
   "id": "79ca341b",
   "metadata": {},
   "outputs": [],
   "source": [
    "# Imports\n",
    "import json\n",
    "import pandas as pd\n",
    "import numpy as np\n",
    "import matplotlib.pyplot as plt"
   ]
  },
  {
   "cell_type": "code",
   "execution_count": 2,
   "id": "8022dfef",
   "metadata": {},
   "outputs": [],
   "source": [
    "'''\n",
    "Build the trends df\n",
    "'''\n",
    "# Build trends df\n",
    "trends = pd.read_csv('../dat/DE_youtube_trending_data.csv.zip')\n",
    "\n",
    "# Build category dict\n",
    "with open('../dat/DE_category_id.json','r') as f:\n",
    "    cat_json = json.loads(f.read())\n",
    "categories = pd.json_normalize(cat_json, record_path =['items'])[[\"id\", \"snippet.title\"]]\n",
    "categories.rename(columns={\"id\": \"cat_id\", \"snippet.title\": \"cat_title\"}, inplace=True)\n",
    "cat_dict = dict(zip(pd.to_numeric(categories.cat_id), categories.cat_title))\n",
    "\n",
    "#! ID 29 seems to be missing -> add manually from https://gist.github.com/dgp/1b24bf2961521bd75d6c\n",
    "cat_dict[29] = 'Nonprofits & Activism'\n",
    "\n",
    "# Replace cat_id with cat_title in the trends df\n",
    "trends.replace({\"categoryId\": cat_dict},inplace=True)\n",
    "trends.rename(columns={\"categoryId\": \"category\"}, inplace=True)\n",
    "\n",
    "# Convert tagslist to array\n",
    "trends['tags'] = trends['tags'].apply(lambda x: x.split('|'))"
   ]
  },
  {
   "cell_type": "code",
   "execution_count": 3,
   "id": "63837342",
   "metadata": {},
   "outputs": [
    {
     "data": {
      "text/html": [
       "<div>\n",
       "<style scoped>\n",
       "    .dataframe tbody tr th:only-of-type {\n",
       "        vertical-align: middle;\n",
       "    }\n",
       "\n",
       "    .dataframe tbody tr th {\n",
       "        vertical-align: top;\n",
       "    }\n",
       "\n",
       "    .dataframe thead th {\n",
       "        text-align: right;\n",
       "    }\n",
       "</style>\n",
       "<table border=\"1\" class=\"dataframe\">\n",
       "  <thead>\n",
       "    <tr style=\"text-align: right;\">\n",
       "      <th></th>\n",
       "      <th>video_id</th>\n",
       "      <th>title</th>\n",
       "      <th>publishedAt</th>\n",
       "      <th>channelId</th>\n",
       "      <th>channelTitle</th>\n",
       "      <th>category</th>\n",
       "      <th>trending_date</th>\n",
       "      <th>tags</th>\n",
       "      <th>view_count</th>\n",
       "      <th>likes</th>\n",
       "      <th>dislikes</th>\n",
       "      <th>comment_count</th>\n",
       "      <th>thumbnail_link</th>\n",
       "      <th>comments_disabled</th>\n",
       "      <th>ratings_disabled</th>\n",
       "      <th>description</th>\n",
       "    </tr>\n",
       "  </thead>\n",
       "  <tbody>\n",
       "    <tr>\n",
       "      <th>0</th>\n",
       "      <td>KJi2qg5F-9E</td>\n",
       "      <td>Bonez MC - HOLLYWOOD (Snippet)</td>\n",
       "      <td>2020-08-11T18:00:03Z</td>\n",
       "      <td>UCGh8tmH9x9njaI2mXfh2fyg</td>\n",
       "      <td>CrhymeTV</td>\n",
       "      <td>Music</td>\n",
       "      <td>2020-08-12T00:00:00Z</td>\n",
       "      <td>[187, 187 Strassenbande, BONEZ MC, RAF Camora,...</td>\n",
       "      <td>573902</td>\n",
       "      <td>69319</td>\n",
       "      <td>970</td>\n",
       "      <td>3311</td>\n",
       "      <td>https://i.ytimg.com/vi/KJi2qg5F-9E/default.jpg</td>\n",
       "      <td>False</td>\n",
       "      <td>False</td>\n",
       "      <td>Hollywood Fanbox vorbestellen ► http://bonezmc...</td>\n",
       "    </tr>\n",
       "  </tbody>\n",
       "</table>\n",
       "</div>"
      ],
      "text/plain": [
       "      video_id                           title           publishedAt  \\\n",
       "0  KJi2qg5F-9E  Bonez MC - HOLLYWOOD (Snippet)  2020-08-11T18:00:03Z   \n",
       "\n",
       "                  channelId channelTitle category         trending_date  \\\n",
       "0  UCGh8tmH9x9njaI2mXfh2fyg     CrhymeTV    Music  2020-08-12T00:00:00Z   \n",
       "\n",
       "                                                tags  view_count  likes  \\\n",
       "0  [187, 187 Strassenbande, BONEZ MC, RAF Camora,...      573902  69319   \n",
       "\n",
       "   dislikes  comment_count                                  thumbnail_link  \\\n",
       "0       970           3311  https://i.ytimg.com/vi/KJi2qg5F-9E/default.jpg   \n",
       "\n",
       "   comments_disabled  ratings_disabled  \\\n",
       "0              False             False   \n",
       "\n",
       "                                         description  \n",
       "0  Hollywood Fanbox vorbestellen ► http://bonezmc...  "
      ]
     },
     "execution_count": 3,
     "metadata": {},
     "output_type": "execute_result"
    }
   ],
   "source": [
    "trends.head(1)"
   ]
  },
  {
   "cell_type": "code",
   "execution_count": 40,
   "id": "d9556159",
   "metadata": {},
   "outputs": [
    {
     "data": {
      "text/plain": [
       "<AxesSubplot:>"
      ]
     },
     "execution_count": 40,
     "metadata": {},
     "output_type": "execute_result"
    },
    {
     "data": {
      "image/png": "[encoded data removed]",
      "text/plain": [
       "<Figure size 1080x252 with 2 Axes>"
      ]
     },
     "metadata": {
      "needs_background": "light"
     },
     "output_type": "display_data"
    }
   ],
   "source": [
    "'''\n",
    "Plot category and tag popularity for the full dataset\n",
    "'''\n",
    "plt.subplots(1, 2, figsize=(15, 3.5), sharey=False)\n",
    "\n",
    "# Plot category popularity\n",
    "plt.subplot(1, 2, 1)\n",
    "pop_cat = trends.category.value_counts(normalize=True)\n",
    "pop_cat.plot(kind='bar')\n",
    "\n",
    "# Plot the 15 most popular tags\n",
    "plt.subplot(1, 2, 2)\n",
    "tags = pd.Series(np.concatenate(trends.tags))\n",
    "pop_tags = tags.value_counts(normalize=True)\n",
    "pop_tags[0:15].plot(kind='bar')"
   ]
  },
  {
   "cell_type": "code",
   "execution_count": null,
   "id": "3cb679e6",
   "metadata": {},
   "outputs": [],
   "source": []
  }
 ],
 "metadata": {
  "kernelspec": {
   "display_name": "literacy_env",
   "language": "python",
   "name": "literacy_env"
  },
  "language_info": {
   "codemirror_mode": {
    "name": "ipython",
    "version": 3
   },
   "file_extension": ".py",
   "mimetype": "text/x-python",
   "name": "python",
   "nbconvert_exporter": "python",
   "pygments_lexer": "ipython3",
   "version": "3.9.7"
  }
 },
 "nbformat": 4,
 "nbformat_minor": 5
}
